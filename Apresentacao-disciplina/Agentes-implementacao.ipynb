{
  "cells": [
    {
      "cell_type": "markdown",
      "metadata": {
        "colab_type": "text",
        "id": "view-in-github"
      },
      "source": [
        "<a href=\"https://colab.research.google.com/github/VSusko/IA/blob/main/Apresentacao-disciplina/Agentes-implementacao.ipynb\" target=\"_parent\"><img src=\"https://colab.research.google.com/assets/colab-badge.svg\" alt=\"Open In Colab\"/></a>"
      ]
    },
    {
      "cell_type": "markdown",
      "metadata": {
        "id": "F6a4L9XsypDW"
      },
      "source": [
        "# **Implementação - Data Center**\n",
        "\n",
        "A seguir, será apresentada a implementação da funcionalidade de uma *smart house* para um Data Center. O objetivo deste código é, a partir de uma simulação, comparar o desempenho da aplicação da média móvel e da média simples para determinar a compra de suprimentos para o Data Center. \n",
        "\n",
        "O ambiente possui as seguintes características:\n",
        "* A bateria do Data Center tem uma capacidade máxima de 500KWh\n",
        "* Todos os dias uma certa quantidade aleatória de cargas é consumida no Data Center, e este valor flutua aleatoriamente entre 200 e 400KWh\n",
        "* Todos os dias o preço do KWh varia entre `R$0,50` e `R$2,00`\n",
        "* No primeiro dia, o Data Center possui uma carga inicial de 300KWh\n",
        "* Se a bateria atingir 0 KWh, o Data Center desliga, ou seja, a simulação é interrompida\n",
        "\n",
        "Assim sendo, o agente da smart house deve decidir diariamente comprar ou não mais cargas para suprir o Data Center dadas as condições:\n",
        "* O agente comprará cargas se o preço atual do KWh é menor do que a média (simples ou móvel) dos últimos dias. No caso da média móvel, serão considerados apenas os últimos 5 dias, enquanto a média simples considera a média de todos os dias já decorridos\n",
        "* O agente também comprará cargas se o estoque do Data Center atingir um valor menor ou igual a 200Kwh\n",
        "* Quando o agente opta por comprar cargas, ele comprará até 400Kwh. A quantidade comprada dependerá do estoque atual do Data Center, sendo que se ele possuir valor maior que 100KWh, como a capacidade máxima da bateria é de 500Kwh, então será comprada apenas a diferença para completar o estoque da bateria\n",
        "* Caso nenhuma das condições de compra seja satisfeita, o agente não comprará nada no dia\n",
        "\n"
      ]
    },
    {
      "cell_type": "markdown",
      "metadata": {
        "id": "BDziRWk_2XeH"
      },
      "source": [
        "# Importação das bibliotecas necessárias para executar o código\n"
      ]
    },
    {
      "cell_type": "code",
      "execution_count": null,
      "metadata": {
        "id": "w9x_GHLf2inS"
      },
      "outputs": [],
      "source": [
        "from random import *\n",
        "import matplotlib.pyplot as plt\n",
        "import numpy as np"
      ]
    },
    {
      "cell_type": "markdown",
      "metadata": {},
      "source": [
        "# Definição das constantes do código"
      ]
    },
    {
      "cell_type": "code",
      "execution_count": null,
      "metadata": {},
      "outputs": [],
      "source": [
        "# Definição das constantes\n",
        "QTD_DIAS       = 20\n",
        "NUM_SIMULACOES = 1000"
      ]
    },
    {
      "cell_type": "markdown",
      "metadata": {},
      "source": [
        "# Funções de geração dos números aleatórios\n"
      ]
    },
    {
      "cell_type": "code",
      "execution_count": null,
      "metadata": {},
      "outputs": [],
      "source": [
        "# Função que gera um vetor de numeros entre 200 e 400 para o consumo diario\n",
        "def gerar_consumos():\n",
        "  # Vetor que armazenará os valores para a simulação dos consumos diários\n",
        "  consumos = []\n",
        "  # São gerados 20 valores entre 200KWh e 400KWh\n",
        "  for i in range(QTD_DIAS): \n",
        "    consumos.append(randint(200, 400))\n",
        "  return consumos\n",
        "\n",
        "# Função que gera um vetor de numeros entre 0.5 e 2 para o preço do Kwh\n",
        "def gerar_precos():\n",
        "  # Vetor que armazenará os valores para a simulação do preço do KWh\n",
        "  precos = []\n",
        "  # São gerados 20 valores entre R$0.50 e R$2.00\n",
        "  for i in range(QTD_DIAS): \n",
        "    precos.append(0.5 + 1.5 * random())\n",
        "  return precos"
      ]
    },
    {
      "cell_type": "markdown",
      "metadata": {
        "id": "5BcRoq-YA-Bp"
      },
      "source": [
        "# Definição do ambiente\n",
        "\n",
        "Vamos armazenar no ambiente as seguintes informações:\n",
        "\n",
        "*   Informação do dia\n",
        "*   Preço do produto em cada um dos dias da série\n",
        "*   Histórico de preços\n",
        "*   Histórico de estoque\n",
        "*   Histórico com a quantidade de produtos comprados"
      ]
    },
    {
      "cell_type": "code",
      "execution_count": null,
      "metadata": {
        "id": "W-oVGYEvyEA0"
      },
      "outputs": [],
      "source": [
        "# Definicao da classe ambiente\n",
        "class Ambiente():\n",
        "\n",
        "  def __init__(self):\n",
        "    # Ambiente explorado pelo agente de compra de papel higienico\n",
        "    self.num_dias=0                       # Valor do numero de dias\n",
        "    self.estoque=300                      # Valor do estoque inicial\n",
        "    self.historico_preco=[1.5]            # Lista do estoque de preços\n",
        "    self.historico_estoque=[self.estoque] # Lista do historico de estoques\n",
        "    self.historico_qtde_comprados=[0]     # Lista da quantidade de produtos comprados\n",
        "    self.precos_aleatorios = gerar_precos()     # Vetor do preco de cada dia\n",
        "    self.consumos_aleatorios = gerar_consumos() # Vetor do consumo de cada dia\n",
        "\n",
        "  # Função que retorna o preço atual do KWh\n",
        "  def percebe_preco_atual(self):\n",
        "    return self.historico_preco[len(self.historico_preco)-1]\n",
        "  \n",
        "  # Função que retorna o estoque atual\n",
        "  def percebe_estoque(self):\n",
        "    return self.historico_estoque[len(self.historico_estoque)-1]    \n",
        "\n",
        "  # Função que simula o ambiente\n",
        "  def run(self, dic_acoes, iteracao):\n",
        "    '''Realizar alteracoes no ambiente: \n",
        "       Definir, aleatoriamente, uma quantidade de produtos consumidos\n",
        "       Atualizar o historico do preco atual e do estoque.\n",
        "       Essas informacoes serao utilizadas pelo agente para decidir a compra ou nao de produtos\n",
        "    '''\n",
        "    # Consumo realizado (valores gerados aleatoriamente)\n",
        "    print(f\"Estoque atual: {self.historico_estoque[len(self.historico_estoque)-1]}\")\n",
        "    print(f\"Consumo realizado no dia: {self.consumos_aleatorios[iteracao]}\") # novo valor da quantidade consumida\n",
        "    estoque_atual = self.historico_estoque[len(self.historico_estoque)-1] - self.consumos_aleatorios[iteracao] + dic_acoes[\"comprar\"]\n",
        "    print(f\"Estoque final após consumo e compra: {estoque_atual}\")\n",
        "    \n",
        "    self.historico_estoque.append(estoque_atual)               # Adicionando o estoque atual no histórico\n",
        "    self.historico_qtde_comprados.append(dic_acoes[\"comprar\"]) # Adicionando quantidade de carga comprada no histórico\n",
        "\n",
        "    # Informando valor do produto no periodo (Atualizacao para o proximo dia)\n",
        "    self.historico_preco.append(self.precos_aleatorios[iteracao]) # novo valor do produto, obtido pelo vetor de precos.\n",
        "    print(f\"Novo valor do preço: {self.precos_aleatorios[iteracao]}\")"
      ]
    },
    {
      "cell_type": "markdown",
      "metadata": {
        "id": "xpWqr3xuFUBy"
      },
      "source": [
        "# Definição do agente\n",
        "\n",
        "O agente vai armazenar informações sobre:\n",
        "*   Número de dias já simulados\n",
        "*   Ambiente (Composição de classes)\n",
        "*   Informação sobre o estoque atual de cargas\n",
        "*   Informação sobre o total de dinheiro gasto na simulação\n",
        "*   Informação do preço atual do KWh\n",
        "*   Valor da média (simples ou móvel) do preço do KWh"
      ]
    },
    {
      "cell_type": "code",
      "execution_count": null,
      "metadata": {
        "id": "wWC7zgz3Hkbi"
      },
      "outputs": [],
      "source": [
        "# Definição da classe agente\n",
        "class Agente():\n",
        "  \n",
        "  def __init__(self, ambiente):\n",
        "    self.num_dias = 1                                               # Definição do número de dias\n",
        "    self.ambiente= ambiente                                         # Copia do objeto ambiente\n",
        "    self.estoque= ambiente.percebe_estoque()                        # Definição do estoque inicial\n",
        "    self.total_gasto = 0                                            # Variável para armazenar a quantidade total gasta\n",
        "    self.preco_atual = self.media = ambiente.percebe_preco_atual()  # Variável para o preço atual do KWh\n",
        "\n",
        "  # Função que executa o agente, decidindo ou não comprar mais cargas \n",
        "  def executa_agente(self, media_movel):\n",
        "    \n",
        "    # Loop principal\n",
        "    for i in range(QTD_DIAS): \n",
        "      # O agente percebe o estado do ambiente\n",
        "      print(f\"Dia: {i+1}\")\n",
        "      self.estoque= self.ambiente.percebe_estoque()         # Obtenção do novo estoque\n",
        "      self.preco_atual= self.ambiente.percebe_preco_atual() # Obtenção do novo preço\n",
        "      \n",
        "      '''\n",
        "        Controlador do agente:\n",
        "        - Define a regra para compra de produtos:\n",
        "          Se o preço atual for menor que a média ou o estoque estiver abaixo de 100, são comprados 300KWh.\n",
        "          \n",
        "          Se a soma do estoque atual com 300 for maior do que o limite superior do DataCenter (500KWh),\n",
        "          então será comprado a quantidade para completar o estoque.\n",
        "      '''\n",
        "      if (self.preco_atual < self.media) or (self.estoque <= 200):\n",
        "        if (self.estoque + 300) <= 500: \n",
        "          compra= 400\n",
        "        else:\n",
        "          compra= 500 - self.estoque\n",
        "      else:\n",
        "        compra= 0\n",
        "      \n",
        "      print(f\"Compra = {compra}\")\n",
        "      \n",
        "      # Fim do controlador\n",
        "      self.total_gasto += self.preco_atual*compra\n",
        "      # O agente aplica modificacoes ao ambiente)\n",
        "      self.ambiente.run({\"comprar\": compra}, i)\n",
        "      # Aumentando o contador de dias\n",
        "      self.num_dias+=1\n",
        "      # Cálculo das médias: o primeiro caso representa a média móvel, e o segundo a média simples\n",
        "      if media_movel and self.num_dias > 5:\n",
        "        self.media = (self.media*(5) + self.preco_atual - self.ambiente.historico_preco[(self.num_dias - 1) - 5])/5\n",
        "      else:\n",
        "        self.media = (self.media*(self.num_dias-1) + self.preco_atual)/self.num_dias\n",
        "        \n",
        "      print(f\"Media atual = {self.media}\")\n",
        "      \n",
        "      print(f\"\\n\")\n",
        "      # Se o estoque zerar, a simulação termina\n",
        "      if self.estoque <= 0 and i >= 1:\n",
        "        return self.num_dias\n",
        "      \n",
        "    return self.num_dias"
      ]
    },
    {
      "cell_type": "markdown",
      "metadata": {
        "id": "-LM3sAw-nuH9"
      },
      "source": [
        "# Definção da classe para impressão dos resultados\n"
      ]
    },
    {
      "cell_type": "code",
      "execution_count": null,
      "metadata": {
        "id": "cREbTlzlnzDT"
      },
      "outputs": [],
      "source": [
        "# Classe para a impressão dos gráficos\n",
        "class Imprime:\n",
        "  @staticmethod\n",
        "  def imprime_resultado(agente):\n",
        "    historico_dias = np.linspace(0, agente.num_dias, agente.num_dias)\n",
        "\n",
        "    # Primeira impressão: historico do preco\n",
        "    fig = plt.figure(figsize=(16,8))\n",
        "    spec = fig.add_gridspec(1,3)\n",
        "\n",
        "    axis1 = fig.add_subplot(spec[0,0])\n",
        "    axis2 = fig.add_subplot(spec[0,1])\n",
        "    axis3 = fig.add_subplot(spec[0,2])\n",
        "\n",
        "    axis1.plot(historico_dias, agente.ambiente.historico_preco, 'bo--', label='Historico (preço)')\n",
        "    axis1.legend()\n",
        "\n",
        "    # Segunda impressão: historico qtde itens comprados\n",
        "    axis2.vlines(historico_dias, ymin=0, ymax=agente.ambiente.historico_qtde_comprados)\n",
        "    axis2.plot(historico_dias, agente.ambiente.historico_qtde_comprados, \"go\")\n",
        "    axis2.set_ylim(0, 300)\n",
        "\n",
        "    # Terceira impressão: historico do estoque\n",
        "    axis3.plot(historico_dias, agente.ambiente.historico_estoque, 'rD--', label='Historico (estoque)')\n",
        "    axis3.legend()\n",
        "    plt.show()"
      ]
    },
    {
      "cell_type": "markdown",
      "metadata": {},
      "source": [
        "# Colocações teóricas\n",
        "\n",
        "Uma vez que o objetivo é comparar as duas médias, a métrica de comparação será o número de dias pelos quais o Data Center pôde operar sem interrupções e o dinheiro total gasto para cada cenário. Dessa forma, o código será executado 1000 vezes e será observado em qual das médias a bateria manteve-se ativa por mais tempo e quanto foi gasto para tal\n",
        "\n",
        "Vale mencionar a diferença entre média simples e média móvel. A média simples constitui a razão entre a soma de todos os preços do KWh e o número de dias decorridos durante a simulação. Por outro lado, a média móvel corresponde à média dos preços do KWh apenas dos últimos 5 dias. Dessa forma, para cada dia depois do quinto dia de simulação a média do preço é calculada com base nos preços dos 5 dias anteriores. Os casos em que a simulação dura até 5 dias não são considerados na análise, uma vez que a média móvel possui uma janela de 5 dias, e portanto, as duas médias terão valores equivalentes nesse período, não sendo passível compará-las. \n",
        "\n",
        "Uma vez explicitadas tais diferenças, é possível inferir que a média móvel tende a fornecer valores mais coerentes para a compra de mais suprimentos, porque esta média acompanha os preços mais recentes do produto. Por outro lado, na média simples, preços antigos que distoam muito dos mais recentes podem ter uma influência maior no valor da média, resultando na escolha de não compra do agente. "
      ]
    },
    {
      "cell_type": "markdown",
      "metadata": {
        "id": "GNp-QYrtNtqG"
      },
      "source": [
        "# Execução do programa\n",
        "\n",
        "Por um determinado número de dias (iterações), veremos como o agente reagirá conforme o cálculo da média. Para centralizar a análise do agente nas médias, o ambiente simulado possui as mesmas caractéristicas, por isso, são usados os dois vetores globais anteriormente apresentados para armazenar os valores do preço do KWh e do consumo diário. Dessa forma, os dois agentes estarão condicionados ao mesmo ambiente. "
      ]
    },
    {
      "cell_type": "code",
      "execution_count": null,
      "metadata": {
        "colab": {
          "base_uri": "https://localhost:8080/",
          "height": 765
        },
        "id": "0iTwxYecaw6t",
        "outputId": "353eb339-e939-4602-f4ca-1943421a767f"
      },
      "outputs": [],
      "source": [
        "# Agente da média simples\n",
        "ambiente_atuacao_simples = Ambiente()\n",
        "smart_house_media_simples = Agente(ambiente_atuacao_simples)\n",
        "total_dias_simulados_simples = smart_house_media_simples.executa_agente(False, 20)\n",
        "print(f\"Total de dias simulados: {total_dias_simulados_simples}\\n\")\n",
        "print(f\"Total gasto: {smart_house_media_simples.total_gasto}\\n\")\n",
        "Imprime.imprime_resultado(smart_house_media_simples)\n",
        "\n",
        "# Agente da média móvel\n",
        "ambiente_atuacao_movel = Ambiente()\n",
        "smart_house_media_movel = Agente(ambiente_atuacao_movel)\n",
        "total_dias_simulados_movel = smart_house_media_movel.executa_agente(True, 20)\n",
        "print(f\"Total de dias simulados: {total_dias_simulados_movel}\\n\")\n",
        "print(f\"Total gasto: {smart_house_media_movel.total_gasto}\")\n",
        "Imprime.imprime_resultado(smart_house_media_movel)"
      ]
    },
    {
      "cell_type": "markdown",
      "metadata": {},
      "source": [
        "Para a obtenção dos resultados, teríamos que analisar qual das duas médias fornece um desempenho melhor no total gasto ou em durabilidade do Data Center. Com o código mostrado no tópico acima, esta tarefa pode ser feita manualmente, observando elementos do gráfico e registrando quando uma média teve performance melhor que outra. Os gráficos mostram resultados como: \n",
        "\n",
        "![alt text](Figure_1.png)\n",
        "![alt text](Figure_2.png)\n",
        "\n",
        "Entretanto, como podemos perceber, essa simulação não compreende uma simulação válida visto que durou apenas 3 dias e não podemos comparar as médias. Assim sendo, o fato de que podemos ter simulações descartáveis e que queremos obter uma análise estatística mais precisa, ou seja, com um número grande de simulações para obter resultados mais coerentes, uma nova implementação da última parte do programa foi realizada, apenas para que seja possível visualizar quantas vezes uma média foi superior à outra. \n",
        "\n",
        "O novo código não mostrará graficamente os resultados, porém será possível realizar as simulações de forma muito mais ágil. Além disso, serão contabilizadas apenas as simulações em que o número de dias ultrapassou 5. Assim sendo, os testes serão divididos da seguinte forma:\n",
        "*   2000 simulações com um periódo de 20 dias no máximo em cada\n",
        "*   2000 simulações com um periódo de 100 dias no máximo em cada\n",
        "*   2000 simulações com um periódo de 200 dias no máximo em cada\n",
        "\n",
        "Desse modo, o programa contará quantas vezes qual média produziu um gasto menor e quantas vezes qual média consguiu manter o Data Center ativo por mais tempo, bem como os casos de empate. "
      ]
    },
    {
      "cell_type": "code",
      "execution_count": null,
      "metadata": {},
      "outputs": [],
      "source": [
        "metrica_media_simples_dias = 0        # Variável que contabiliza quantas vezes a média simples durou mais tempo\n",
        "metrica_media_simples_total_gasto = 0 # Variável que contabiliza quantas vezes a média simples produziu gastos menores\n",
        "metrica_media_movel_dias = 0          # Variável que contabiliza quantas vezes a média móvel durou mais tempo\n",
        "metrica_media_movel_total_gasto = 0   # Variável que contabiliza quantas vezes a média móvel produziu gastos menores\n",
        "empate_total_gasto = 0 # Variável que contabiliza empate no dinheiro total gasto nas duas médias\n",
        "empate_dias = 0 # Variável que contabiliza empate no número de dias das duas médias\n",
        "simulacoes = 0 # Número de simulacoes totais\n",
        "while True:\n",
        "  # Agente da média simples\n",
        "  ambiente = Ambiente()\n",
        "  smart_house_media_simples = Agente(ambiente)\n",
        "  total_dias_simulados_simples = smart_house_media_simples.executa_agente(False, 20)\n",
        "\n",
        "  # Se o numero de dias simulado for menor ou igual a 5, recomece\n",
        "  if total_dias_simulados_simples <= 5: \n",
        "    continue\n",
        "  \n",
        "  # Reset do ambiente\n",
        "  ambiente.num_dias=0                       \n",
        "  ambiente.estoque=300                      \n",
        "  ambiente.historico_preco=[1.5]            \n",
        "  ambiente.historico_estoque=[ambiente.estoque] \n",
        "  ambiente.historico_qtde_comprados=[0]     \n",
        "  \n",
        "  # Agente da média móvel\n",
        "  smart_house_media_movel = Agente(ambiente)\n",
        "  total_dias_simulados_movel = smart_house_media_movel.executa_agente(True, 20)\n",
        "  \n",
        "  # Se o numero de dias for menor ou igual a 5, recomece\n",
        "  if total_dias_simulados_movel <= 5:\n",
        "    continue\n",
        "  \n",
        "  print(f\"Total de dias simulados (media simples): {total_dias_simulados_simples}\\n\")\n",
        "  print(f\"Total gasto (media simples): {smart_house_media_simples.total_gasto}\\n\")\n",
        "  print(f\"Total de dias simulados (media movel): {total_dias_simulados_movel}\\n\")\n",
        "  print(f\"Total gasto (media movel): {smart_house_media_movel.total_gasto}\")\n",
        "  \n",
        "  ''' Se a media simples durou por mais tempo, o contador aumenta em 1 \n",
        "      Se a media movel durou por mais tempo, o contador aumenta em 1\n",
        "      Em caso de empate, nenhumas das duas aumenta e ele é contabilizado\n",
        "  '''\n",
        "  if total_dias_simulados_simples > total_dias_simulados_movel:\n",
        "     metrica_media_simples_dias += 1\n",
        "  elif total_dias_simulados_simples < total_dias_simulados_movel:\n",
        "     metrica_media_movel_dias += 1\n",
        "  else:\n",
        "    empate_dias += 1\n",
        "  \n",
        "  ''' Se a media simples produziu menos gasto, o contador aumenta em 1 \n",
        "      Se a media movel produziu menos gasto, o contador aumenta em 1\n",
        "      Em caso de empate, nenhumas das duas aumenta e ele é contabilizado\n",
        "  '''\n",
        "  if smart_house_media_simples.total_gasto < smart_house_media_movel.total_gasto:\n",
        "     metrica_media_simples_total_gasto += 1\n",
        "  elif smart_house_media_simples.total_gasto > smart_house_media_movel.total_gasto:\n",
        "     metrica_media_movel_total_gasto += 1\n",
        "  else:\n",
        "    empate_total_gasto += 1\n",
        "  \n",
        "  # Aumento do numero de simulacoes\n",
        "  simulacoes += 1\n",
        "  \n",
        "  if simulacoes == NUM_SIMULACOES:\n",
        "    break\n",
        "\n",
        "print(f\"Métrica media simples dias: {metrica_media_simples_dias}\\n\")\n",
        "print(f\"Métrica media móvel dias: {metrica_media_movel_dias}\\n\")\n",
        "print(f\"Métrica empate em dias: {empate_dias}\\n\")\n",
        "print(f\"Métrica media simples total gasto: {metrica_media_simples_total_gasto}\\n\")\n",
        "print(f\"Métrica media móvel total gasto: {metrica_media_movel_total_gasto}\\n\")\n",
        "print(f\"Métrica empate em total gasto: {empate_total_gasto}\\n\")\n",
        "    "
      ]
    },
    {
      "cell_type": "markdown",
      "metadata": {},
      "source": [
        "# Resultados\n",
        "\n",
        "Para o cenário de 2000 simulações com um periódo de 20 dias no máximo em cada, obtemos os seguintes números:\n",
        "*   Número de vezes em que a média simples durou mais tempo: 99\n",
        "*   Número de vezes em que a média móvel durou mais tempo: 53\n",
        "*   Número de empates do tempo de duração do Data Center: 1848\n",
        "*   Número de vezes em que a média simples gerou menos custo: 73\n",
        "*   Número de vezes em que a média móvel gerou menos custo: 108\n",
        "*   Número de empates do custo: 1819\n",
        "\n",
        "Logo as estatísticas deste cenário são:\n",
        "*   A média simples faz com que o Data Center dure mais em 4,95% dos casos\n",
        "*   A média móvel faz com que o Data Center dure mais em 2,65% dos casos\n",
        "*   As duas médias são iguais quanto à duração do Data Center em 92,4% dos casos\n",
        "*   A média simples faz com que o Data Center tenha menos despesas em 3,65% dos casos\n",
        "*   A média móvel faz com que o Data Center tenha menos despesas em 5,4% dos casos\n",
        "*   As duas médias são iguais quanto às despesas do Data Center em 90,95% dos casos\n",
        "\n",
        "Para o cenário de 2000 simulações com um periódo de 100 dias no máximo em cada, obtemos os seguintes números:\n",
        "*   Número de vezes em que a média simples durou mais tempo: 108\n",
        "*   Número de vezes em que a média móvel durou mais tempo: 83\n",
        "*   Número de empates do tempo de duração do Data Center: 1809\n",
        "*   Número de vezes em que a média simples gerou menos custo: 99\n",
        "*   Número de vezes em que a média móvel gerou menos custo: 121\n",
        "*   Número de empates do custo: 1780\n",
        "\n",
        "Logo as estatísticas deste cenário são:\n",
        "*   A média simples faz com que o Data Center dure mais em 5,4% dos casos\n",
        "*   A média móvel faz com que o Data Center dure mais em 4,15% dos casos\n",
        "*   As duas médias são iguais quanto à duração do Data Center em 90,45% dos casos\n",
        "*   A média simples faz com que o Data Center tenha menos despesas em 4,95% dos casos\n",
        "*   A média móvel faz com que o Data Center tenha menos despesas em 6,05% dos casos\n",
        "*   As duas médias são iguais quanto às despesas do Data Center em 89% dos casos\n",
        "\n",
        "Para o cenário de 2000 simulações com um periódo de 200 dias no máximo em cada, obtemos os seguintes números:\n",
        "*   Número de vezes em que a média simples durou mais tempo: 103\n",
        "*   Número de vezes em que a média móvel durou mais tempo: 83\n",
        "*   Número de empates do tempo de duração do Data Center: 1814\n",
        "*   Número de vezes em que a média simples gerou menos custo: 97\n",
        "*   Número de vezes em que a média móvel gerou menos custo: 118\n",
        "*   Número de empates do custo: 1785\n",
        "\n",
        "Logo as estatísticas deste cenário são:\n",
        "*   A média simples faz com que o Data Center dure mais em 5,15% dos casos\n",
        "*   A média móvel faz com que o Data Center dure mais em 4,15% dos casos\n",
        "*   As duas médias são iguais quanto à duração do Data Center em 90,7% dos casos\n",
        "*   A média simples faz com que o Data Center tenha menos despesas em 4,85% dos casos\n",
        "*   A média móvel faz com que o Data Center tenha menos despesas em 5,9% dos casos\n",
        "*   As duas médias são iguais quanto às despesas do Data Center em 89,25% dos casos\n",
        "\n",
        "# Conclusões\n",
        "\n",
        "Percebemos que tanto no quesito durabilidade do Data Center quanto no quesito economia, na maioria das vezes, as duas médias têm desempenho equivalente. Isto significa que as duas médias, para as variáveis aleatórias geradas, possuem resultados muito próximos, e dessa forma, o agente tende a executar o mesmo comportamento em ambos os casos. Um possível motivo para este comportamento é que as variáveis aleatórias possuem intervalos de geração dos valores pequeno para percebermos diferenças acentuadas entre as médias (o valor do preço por exemplo que flutua entre 0,5 e 2).\n",
        "Além disso, vale pontuar que para todos os cenários testados, e em raros casos, a média simples fez com que o Data Center mantivesse ativo por mais tempo, ao passo que a média móvel promoveu um gasto total menor."
      ]
    }
  ],
  "metadata": {
    "colab": {
      "include_colab_link": true,
      "name": "Aula04-Agentes-implementacao-aula.ipynb",
      "provenance": []
    },
    "kernelspec": {
      "display_name": "Python 3",
      "name": "python3"
    },
    "language_info": {
      "name": "python",
      "version": "3.13.2"
    }
  },
  "nbformat": 4,
  "nbformat_minor": 0
}
