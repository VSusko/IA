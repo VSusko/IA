{
  "cells": [
    {
      "cell_type": "markdown",
      "metadata": {
        "colab_type": "text",
        "id": "view-in-github"
      },
      "source": [
        "<a href=\"https://colab.research.google.com/github/VSusko/IA/blob/main/Apresentacao-disciplina/Agentes-implementacao.ipynb\" target=\"_parent\"><img src=\"https://colab.research.google.com/assets/colab-badge.svg\" alt=\"Open In Colab\"/></a>"
      ]
    },
    {
      "cell_type": "markdown",
      "metadata": {
        "id": "F6a4L9XsypDW"
      },
      "source": [
        "# **Implementação - Data Center**\n",
        "\n",
        "A seguir, será apresentada a implementação da funcionalidade de uma *smart house* para um Data Center. O objetivo deste código é, a partir de uma simulação, comparar o desempenho da aplicação da média móvel e da média simples para determinar a compra de suprimentos para o Data Center. \n",
        "\n",
        "O ambiente possui as seguintes características:\n",
        "* A bateria do Data Center tem uma capacidade máxima de 500KWh\n",
        "* Todos os dias uma certa quantidade aleatória de cargas é consumida no Data Center, e este valor flutua aleatoriamente entre 200 e 400KWh\n",
        "* Todos os dias o preço do KWh varia entre `R$0,50` e `R$2,00`\n",
        "* No primeiro dia, o Data Center possui uma carga inicial de 300KWh\n",
        "* Se a bateria atingir 0 KWh, o Data Center desliga, ou seja, a simulação é interrompida\n",
        "\n",
        "Assim sendo, o agente da smart house deve decidir diariamente comprar ou não mais cargas para suprir o Data Center dadas as condições:\n",
        "* O agente comprará cargas se o preço atual do KWh é menor do que a média (simples ou móvel) dos últimos dias. No caso da média móvel, serão considerados apenas os últimos 5 dias, enquanto a média simples considera a média de todos os dias já decorridos\n",
        "* O agente também comprará cargas se o estoque do Data Center atingir um valor menor ou igual a 200Kwh\n",
        "* Quando o agente opta por comprar cargas, ele comprará até 400Kwh. A quantidade comprada dependerá do estoque atual do Data Center, sendo que se ele possuir valor maior que 100KWh, como a capacidade máxima da bateria é de 500Kwh, então será comprada apenas a diferença para completar o estoque da bateria\n",
        "* Caso nenhuma das condições de compra seja satisfeita, o agente não comprará nada no dia\n",
        "\n"
      ]
    },
    {
      "cell_type": "markdown",
      "metadata": {
        "id": "BDziRWk_2XeH"
      },
      "source": [
        "# Importação das bibliotecas necessárias para executar o código\n"
      ]
    },
    {
      "cell_type": "code",
      "execution_count": null,
      "metadata": {
        "id": "w9x_GHLf2inS"
      },
      "outputs": [],
      "source": [
        "from random import *\n",
        "import matplotlib.pyplot as plt\n",
        "import numpy as np"
      ]
    },
    {
      "cell_type": "markdown",
      "metadata": {},
      "source": [
        "# Definição das constantes do código\n",
        "\n",
        "Seguem abaixo as constantes utilizadas no código: o número de dias em cada simulação; o número total de simulações e a diretiva para impressão de valores como média, estoque, quantidade de carga comprada, etc."
      ]
    },
    {
      "cell_type": "code",
      "execution_count": null,
      "metadata": {},
      "outputs": [],
      "source": [
        "# Definição das constantes\n",
        "QTD_DIAS       = 20    # Quantidade de dias simulados\n",
        "NUM_SIMULACOES = 2000  # Número total de simulações\n",
        "MODO_IMPRESSAO = False # Define se serão mostrados os valores no terminal"
      ]
    },
    {
      "cell_type": "markdown",
      "metadata": {},
      "source": [
        "# Funções de geração dos números aleatórios\n",
        "\n",
        "Duas funções foram criadas para gerar números aleatórios. A função *gerar_consumos()* cria um vetor com números aleatórios no intervalo de 200 a 400, para representar os consumos diários do Data Center. Já a função *gerar_precos()* fornece um vetor com números aleatórios no intervalo de 0,5 a 2, para representar as flutuações diárias do preço do KWh. Vale notar que existe uma condição que faz com que o preço do KWh atinja 20 reais, fato que extrapola o limite do intervalo de preços mencionado. Este evento foi adicionado para que possamos observar o comportamento das médias na presença de ruídos, que são valores muito diferentes do padrão esperado. Desse modo, existe 1 chance em 25 de que o valor 20 apareça. Como a média móvel fornece a média dos últimos 5 dias, é esperado que o ruído influencie muito dentro da janela de tempo, mas por poucos dias, enquanto na média simples, os ruídos podem ser mais ou menos influentes, a depender do número de dias. "
      ]
    },
    {
      "cell_type": "code",
      "execution_count": null,
      "metadata": {},
      "outputs": [],
      "source": [
        "# Função que gera um vetor de numeros entre 200 e 400 para o consumo diario\n",
        "def gerar_consumos():\n",
        "  # Vetor que armazenará os valores para a simulação dos consumos diários\n",
        "  consumos = []\n",
        "  # São gerados 20 valores entre 200KWh e 400KWh\n",
        "  for i in range(QTD_DIAS): \n",
        "    consumos.append(randint(200, 400))\n",
        "  return consumos\n",
        "\n",
        "# Função que gera um vetor de numeros entre 0.5 e 2 para o preço do Kwh\n",
        "def gerar_precos():\n",
        "  # Vetor que armazenará os valores para a simulação do preço do KWh\n",
        "  precos = []\n",
        "  # São gerados 20 valores entre R$0.50 e R$2.00, mas existe uma chance de 10% de aparecer um preço de 7, ou seja, muito fora do padrão\n",
        "  for i in range(QTD_DIAS): \n",
        "    if(randint(1, 25) == 1):\n",
        "      precos.append(20)\n",
        "    else:\n",
        "      precos.append(0.5 + 1.5 * random())\n",
        "      \n",
        "  return precos"
      ]
    },
    {
      "cell_type": "markdown",
      "metadata": {
        "id": "5BcRoq-YA-Bp"
      },
      "source": [
        "# Definição do ambiente\n",
        "\n",
        "Vamos armazenar no ambiente as seguintes informações:\n",
        "\n",
        "*   Informação do dia\n",
        "*   Preço do produto em cada um dos dias da série\n",
        "*   Histórico de preços\n",
        "*   Histórico de estoque\n",
        "*   Histórico com a quantidade de produtos comprados"
      ]
    },
    {
      "cell_type": "code",
      "execution_count": null,
      "metadata": {
        "id": "W-oVGYEvyEA0"
      },
      "outputs": [],
      "source": [
        "# Definicao da classe ambiente\n",
        "class Ambiente():\n",
        "\n",
        "  def __init__(self):\n",
        "    # Ambiente explorado pelo agente de compra de papel higienico\n",
        "    self.num_dias=0                       # Valor do numero de dias\n",
        "    self.estoque=300                      # Valor do estoque inicial\n",
        "    self.historico_preco=[1.5]            # Lista do estoque de preços\n",
        "    self.historico_estoque=[self.estoque] # Lista do historico de estoques\n",
        "    self.historico_qtde_comprados=[0]     # Lista da quantidade de produtos comprados\n",
        "    self.precos_aleatorios = gerar_precos()     # Vetor do preco de cada dia\n",
        "    self.consumos_aleatorios = gerar_consumos() # Vetor do consumo de cada dia\n",
        "\n",
        "  # Função que retorna o preço atual do kwh\n",
        "  def percebe_preco_atual(self):\n",
        "    return self.historico_preco[len(self.historico_preco)-1]\n",
        "  \n",
        "  # Função que retorna o estoque atual\n",
        "  def percebe_estoque(self):\n",
        "    return self.historico_estoque[len(self.historico_estoque)-1]    \n",
        "\n",
        "  # Função que simula o ambiente\n",
        "  def run(self, dic_acoes, iteracao):\n",
        "    '''Realizar alteracoes no ambiente: \n",
        "       Definir, aleatoriamente, uma quantidade de produtos consumidos\n",
        "       Atualizar o historico do preco atual e do estoque.\n",
        "       Essas informacoes serao utilizadas pelo agente para decidir a compra ou nao de produtos\n",
        "    '''\n",
        "    # Consumo realizado (valores gerados aleatoriamente)\n",
        "    if MODO_IMPRESSAO:\n",
        "      print(f\"Estoque atual: {self.historico_estoque[len(self.historico_estoque)-1]}\")\n",
        "      print(f\"Consumo realizado no dia: {self.consumos_aleatorios[iteracao]}\") # novo valor da quantidade consumida\n",
        "    estoque_atual = self.historico_estoque[len(self.historico_estoque)-1] - self.consumos_aleatorios[iteracao] + dic_acoes[\"comprar\"]\n",
        "    if MODO_IMPRESSAO:\n",
        "      print(f\"Estoque final após consumo e compra: {estoque_atual}\")\n",
        "    \n",
        "    self.historico_estoque.append(estoque_atual)               # Adicionando o estoque atual no histórico\n",
        "    self.historico_qtde_comprados.append(dic_acoes[\"comprar\"]) # Adicionando quantidade de carga comprada no histórico\n",
        "\n",
        "    # Informando valor do produto no periodo (Atualizacao para o proximo dia)\n",
        "    self.historico_preco.append(self.precos_aleatorios[iteracao]) # novo valor do produto, obtido pelo vetor de precos.\n",
        "    if MODO_IMPRESSAO:\n",
        "      print(f\"Novo valor do preço: {self.precos_aleatorios[iteracao]}\")"
      ]
    },
    {
      "cell_type": "markdown",
      "metadata": {
        "id": "xpWqr3xuFUBy"
      },
      "source": [
        "# Definição do agente\n",
        "\n",
        "O agente vai armazenar informações sobre:\n",
        "*   Número de dias já simulados\n",
        "*   Ambiente (Composição de classes)\n",
        "*   Informação sobre o estoque atual de cargas\n",
        "*   Informação sobre o total de dinheiro gasto na simulação\n",
        "*   Informação do preço atual do KWh\n",
        "*   Valor da média (simples ou móvel) do preço do KWh"
      ]
    },
    {
      "cell_type": "code",
      "execution_count": null,
      "metadata": {
        "id": "wWC7zgz3Hkbi"
      },
      "outputs": [],
      "source": [
        "# Definição da classe agente\n",
        "class Agente():\n",
        "  \n",
        "  def __init__(self, ambiente):\n",
        "    self.num_dias = 1                                               # Definição do número de dias\n",
        "    self.ambiente= ambiente                                         # Copia do objeto ambiente\n",
        "    self.estoque= ambiente.percebe_estoque()                        # Definição do estoque inicial\n",
        "    self.total_gasto = 0                                            # Variável para armazenar a quantidade total gasta\n",
        "    self.preco_atual = self.media = ambiente.percebe_preco_atual()  # Variável para o preço atual do Kwh\n",
        "\n",
        "  # Função que executa o agente, decidindo ou não comprar mais cargas \n",
        "  def executa_agente(self, media_movel):\n",
        "    \n",
        "    # Loop principal\n",
        "    for i in range(QTD_DIAS): \n",
        "      # O agente percebe o estado do ambiente\n",
        "      if MODO_IMPRESSAO:\n",
        "        print(f\"Dia: {i+1}\")\n",
        "\n",
        "      self.estoque= self.ambiente.percebe_estoque()         # Obtenção do novo estoque\n",
        "      self.preco_atual= self.ambiente.percebe_preco_atual() # Obtenção do novo preço\n",
        "      \n",
        "      '''\n",
        "        Controlador do agente:\n",
        "        - Define a regra para compra de produtos:\n",
        "          Se a o preço estiver menor que a média, completar a bateria e comprar o consumo do dia\n",
        "          \n",
        "          Se o estoque estiver em caso muito crítico (<=100), comprar o consumo do dia + 200 de carga para a bateria\n",
        "          \n",
        "          Se o estoque estiver em caso crítico (<=200), comprar metade do consumo do dia + 100 de carga para a bateria\n",
        "\n",
        "          Se o estoque estiver em caso moderado (<300), comprar um quarto do consumo do dia + 100 de carga para a bateria\n",
        "          \n",
        "          Caso contrário, não comprar nada\n",
        "      '''\n",
        "      if self.preco_atual < self.media:\n",
        "        compra = self.ambiente.consumos_aleatorios[i] + 500 - self.estoque  \n",
        "      elif self.estoque <= 100:\n",
        "        compra = self.ambiente.consumos_aleatorios[i] + 200\n",
        "      elif self.estoque <= 200:\n",
        "        compra = (self.ambiente.consumos_aleatorios[i] / 2) + 100\n",
        "      elif self.estoque < 300:\n",
        "        compra = (self.ambiente.consumos_aleatorios[i] / 4) + 100\n",
        "      else:\n",
        "        compra = 0\n",
        "      \n",
        "      if MODO_IMPRESSAO:      \n",
        "        print(f\"Compra = {compra}\")\n",
        "      \n",
        "      # Fim do controlador\n",
        "      self.total_gasto += self.preco_atual*compra\n",
        "      # O agente aplica modificacoes ao ambiente)\n",
        "      self.ambiente.run({\"comprar\": compra}, i)\n",
        "      # Aumentando o contador de dias\n",
        "      self.num_dias+=1\n",
        "      # Cálculo das médias: o primeiro caso representa a média móvel, e o segundo a média simples\n",
        "      if media_movel and self.num_dias > 5:\n",
        "        self.media = (self.media*(5) + self.preco_atual - self.ambiente.historico_preco[(self.num_dias - 1) - 5])/5\n",
        "      else:\n",
        "        self.media = (self.media*(self.num_dias-1) + self.preco_atual)/self.num_dias\n",
        "      \n",
        "      if MODO_IMPRESSAO:      \n",
        "        print(f\"Media atual = {self.media}\")\n",
        "        print(f\"\\n\")\n",
        "      \n",
        "      # Se o estoque zerar, a simulação termina\n",
        "      if self.ambiente.percebe_estoque() <= 0 and i > 1:\n",
        "        return self.num_dias\n",
        "      \n",
        "    return self.num_dias"
      ]
    },
    {
      "cell_type": "markdown",
      "metadata": {
        "id": "-LM3sAw-nuH9"
      },
      "source": [
        "# Definção da classe para impressão dos resultados\n"
      ]
    },
    {
      "cell_type": "code",
      "execution_count": null,
      "metadata": {
        "id": "cREbTlzlnzDT"
      },
      "outputs": [],
      "source": [
        "# Classe para a impressão dos gráficos\n",
        "class Imprime:\n",
        "  @staticmethod\n",
        "  def imprime_resultado(agente):\n",
        "    historico_dias = np.linspace(0, agente.num_dias, agente.num_dias)\n",
        "\n",
        "    # Primeira impressão: historico do preco\n",
        "    fig = plt.figure(figsize=(16,8))\n",
        "    spec = fig.add_gridspec(1,3)\n",
        "\n",
        "    axis1 = fig.add_subplot(spec[0,0])\n",
        "    axis2 = fig.add_subplot(spec[0,1])\n",
        "    axis3 = fig.add_subplot(spec[0,2])\n",
        "\n",
        "    axis1.plot(historico_dias, agente.ambiente.historico_preco, 'b-', label='Historico (preço)')\n",
        "    axis1.legend()\n",
        "\n",
        "    # Segunda impressão: historico qtde itens comprados\n",
        "    axis2.vlines(historico_dias, ymin=0, ymax=agente.ambiente.historico_qtde_comprados)\n",
        "    axis2.plot(historico_dias, agente.ambiente.historico_qtde_comprados, \"g-\")\n",
        "    axis2.set_ylim(0, 800)\n",
        "\n",
        "    # Terceira impressão: historico do estoque\n",
        "    axis3.plot(historico_dias, agente.ambiente.historico_estoque, 'r-', label='Historico (estoque)')\n",
        "    axis3.legend()\n",
        "    plt.show()"
      ]
    },
    {
      "cell_type": "markdown",
      "metadata": {},
      "source": [
        "# Aspectos Teóricos\n",
        "\n",
        "Uma vez que o objetivo é comparar as duas médias, a métrica de comparação será o dinheiro total gasto para cada cenário. Dessa forma, o código será executado várias vezes e será observado em qual das médias o Data Center teve menos despesas\n",
        "\n",
        "Vale mencionar a diferença entre média simples e média móvel. A média simples constitui a razão entre a soma de todos os preços do KWh e o número de dias decorridos durante a simulação. Por outro lado, a média móvel corresponde à média dos preços do KWh apenas dos últimos 5 dias. Dessa forma, para cada dia depois do quinto dia de simulação, a média do preço é calculada com base nos preços dos 5 dias anteriores. Os casos em que a simulação dura até 5 dias não são considerados na análise, uma vez que a média móvel possui uma janela de 5 dias, e portanto, as duas médias terão valores equivalentes nesse período, não sendo passível compará-las. \n",
        "\n",
        "Uma vez explicitadas tais diferenças, é possível inferir que a média móvel tende a refletir melhor os preços recentes do KWh, pois considera apenas os últimos 5 dias da simulação. Isso pode tornar o agente de compra mais reativo a tendências de curto prazo, favorecendo decisões mais adaptadas ao momento atual. Por outro lado, a média simples incorpora todo o histórico da simulação, o que pode diluir a influência de alterações recentes nos preços — resultando, em alguns casos, na decisão de não comprar suprimentos quando os preços atuais já subiram."
      ]
    },
    {
      "cell_type": "markdown",
      "metadata": {
        "id": "GNp-QYrtNtqG"
      },
      "source": [
        "# Execução do programa\n",
        "\n",
        "Por um determinado número de dias (iterações), veremos como o agente reagirá conforme o cálculo da média. Para centralizar a análise do agente nas médias, o ambiente simulado possui as mesmas caractéristicas, por isso, são usados os vetores das funções de geração de números aleatórios anteriormente apresentados para armazenar os valores do preço do KWh e do consumo diário. Dessa forma, os dois agentes estarão condicionados ao mesmo ambiente. "
      ]
    },
    {
      "cell_type": "code",
      "execution_count": null,
      "metadata": {
        "colab": {
          "base_uri": "https://localhost:8080/",
          "height": 765
        },
        "id": "0iTwxYecaw6t",
        "outputId": "353eb339-e939-4602-f4ca-1943421a767f"
      },
      "outputs": [],
      "source": [
        "# Agente da média simples\n",
        "ambiente = Ambiente()\n",
        "smart_house_media_simples = Agente(ambiente)\n",
        "total_dias_simulados_simples = smart_house_media_simples.executa_agente(False)\n",
        "Imprime.imprime_resultado(smart_house_media_simples)\n",
        "\n",
        "# Reset do ambiente\n",
        "ambiente.num_dias=0                       \n",
        "ambiente.estoque=300                      \n",
        "ambiente.historico_preco=[1.5]            \n",
        "ambiente.historico_estoque=[ambiente.estoque] \n",
        "ambiente.historico_qtde_comprados=[0] \n",
        "\n",
        "# Agente da média móvel\n",
        "smart_house_media_movel = Agente(ambiente)\n",
        "total_dias_simulados_movel = smart_house_media_movel.executa_agente(True)\n",
        "Imprime.imprime_resultado(smart_house_media_movel)\n",
        "\n",
        "print(f\"Total de dias simulados na média simples: {total_dias_simulados_simples}\\n\")\n",
        "print(f\"Total gasto na média simples: {smart_house_media_simples.total_gasto}\\n\")\n",
        "print(f\"Total de dias simulados na média móvel: {total_dias_simulados_movel}\\n\")\n",
        "print(f\"Total gasto na média móvel: {smart_house_media_movel.total_gasto}\")"
      ]
    },
    {
      "cell_type": "markdown",
      "metadata": {},
      "source": [
        "Para a obtenção dos resultados, utilizando o código mostrado no tópico acima esta tarefa pode ser feita manualmente, observando elementos do gráfico e registrando quando uma média teve performance melhor que outra. Os gráficos mostram resultados como: \n",
        "\n",
        "![alt text](Figure_1.png)\n",
        "![alt text](Figure_2.png)\n",
        "\n",
        "Entretanto, como podemos perceber, essa simulação não compreende uma simulação válida visto que durou apenas 3 dias e não podemos comparar as médias. Assim sendo, o fato de que podemos ter simulações descartáveis e que queremos obter uma análise estatística mais precisa, ou seja, com um número grande de simulações para obter resultados mais coerentes, uma nova implementação da última parte do programa foi realizada, apenas para que seja possível visualizar quantas vezes uma média foi superior à outra. \n",
        "\n",
        "O novo código não mostrará graficamente os resultados, porém será possível realizar as simulações de forma muito mais ágil. Além disso, serão contabilizadas apenas as simulações em que o número de dias ultrapassou 5 e as duas médias mantiveram o Data Center ativo durante o máximo de dias preestabelecido. Assim sendo, os testes serão divididos da seguinte forma:\n",
        "*   2000 simulações com um periódo de 20 dias em cada\n",
        "*   2000 simulações com um periódo de 50 dias em cada\n",
        "*   2000 simulações com um periódo de 100 dias em cada\n",
        "*   2000 simulações com um periódo de 150 dias em cada\n",
        "*   2000 simulações com um periódo de 200 dias em cada\n",
        "*   2000 simulações com um periódo de 300 dias em cada\n",
        "\n",
        "Desse modo, o programa contará quantas vezes qual média produziu um gasto menor, bem como os casos de empate. "
      ]
    },
    {
      "cell_type": "code",
      "execution_count": null,
      "metadata": {},
      "outputs": [],
      "source": [
        "metrica_media_simples_total_gasto = 0 # Variável que contabiliza quantas vezes a média simples produziu gastos menores\n",
        "metrica_media_movel_total_gasto = 0   # Variável que contabiliza quantas vezes a média móvel produziu gastos menores\n",
        "empate_total_gasto = 0 # Variável que contabiliza empate no dinheiro total gasto nas duas médias\n",
        "simulacoes = 0 # Número de simulacoes totais\n",
        "while True:\n",
        "  # Agente da média simples\n",
        "  ambiente = Ambiente()\n",
        "  smart_house_media_simples = Agente(ambiente)\n",
        "  total_dias_simulados_simples = smart_house_media_simples.executa_agente(False)\n",
        "\n",
        "  # Se o numero de dias simulado for menor ou igual a 5, recomece\n",
        "  if total_dias_simulados_simples < QTD_DIAS: \n",
        "    continue\n",
        "  \n",
        "  # Reset do ambiente\n",
        "  ambiente.num_dias=0                       \n",
        "  ambiente.estoque=300                      \n",
        "  ambiente.historico_preco=[1.5]            \n",
        "  ambiente.historico_estoque=[ambiente.estoque] \n",
        "  ambiente.historico_qtde_comprados=[0]     \n",
        "  \n",
        "  # Agente da média móvel\n",
        "  smart_house_media_movel = Agente(ambiente)\n",
        "  total_dias_simulados_movel = smart_house_media_movel.executa_agente(True)\n",
        "  \n",
        "  # Se o numero de dias for menor ou igual a 5, recomece\n",
        "  if total_dias_simulados_movel < QTD_DIAS:\n",
        "    continue\n",
        "  \n",
        "  if MODO_IMPRESSAO:\n",
        "    print(f\"Total de dias simulados: {QTD_DIAS}\\n\")\n",
        "    print(f\"Total gasto (media simples): {smart_house_media_simples.total_gasto}\\n\")\n",
        "    print(f\"Total gasto (media movel): {smart_house_media_movel.total_gasto}\")\n",
        "  \n",
        "  ''' Se a media simples produziu menos gasto, o contador aumenta em 1 \n",
        "      Se a media movel produziu menos gasto, o contador aumenta em 1\n",
        "      Em caso de empate, nenhumas das duas aumenta e ele é contabilizado\n",
        "  '''\n",
        "  if smart_house_media_simples.total_gasto < smart_house_media_movel.total_gasto:\n",
        "     metrica_media_simples_total_gasto += 1\n",
        "  elif smart_house_media_simples.total_gasto > smart_house_media_movel.total_gasto:\n",
        "     metrica_media_movel_total_gasto += 1\n",
        "  else:\n",
        "    empate_total_gasto += 1\n",
        "  \n",
        "  # Aumento do numero de simulacoes\n",
        "  simulacoes += 1\n",
        "  \n",
        "  if simulacoes == NUM_SIMULACOES:\n",
        "    break\n",
        "\n",
        "print(f\"Número de vezes em que a média simples gerou menos custo: {metrica_media_simples_total_gasto}\\n\")\n",
        "print(f\"Número de vezes em que a média móvel gerou menos custo: {metrica_media_movel_total_gasto}\\n\")\n",
        "print(f\"Número de empates do custo: {empate_total_gasto}\\n\")\n",
        "\n",
        "print(f\"A média simples faz com que o Data Center tenha menos despesas em {metrica_media_simples_total_gasto/NUM_SIMULACOES*100:.2f}% dos casos\\n\")\n",
        "print(f\"A média móvel faz com que o Data Center tenha menos despesas em {metrica_media_movel_total_gasto/NUM_SIMULACOES*100:.2f}% dos casos\\n\")\n",
        "print(f\"As duas médias são iguais quanto às despesas do Data Center em {empate_total_gasto/NUM_SIMULACOES*100:.2f}% dos casos\\n\")"
      ]
    },
    {
      "cell_type": "markdown",
      "metadata": {},
      "source": [
        "# Resultados\n",
        "\n",
        "Para o cenário de 2000 simulações com um periódo de `20` dias em cada, obtemos os seguintes números:\n",
        "*   Número de vezes em que a média simples gerou menos custo: 540\n",
        "*   Número de vezes em que a média móvel gerou menos custo: 937\n",
        "*   Número de empates do custo: 523\n",
        "\n",
        "Logo, as estatísticas deste cenário são:\n",
        "*   A média simples faz com que o Data Center tenha menos despesas em 27.00% dos casos\n",
        "*   A média móvel faz com que o Data Center tenha menos despesas em 46.85% dos casos\n",
        "*   As duas médias são iguais quanto às despesas do Data Center em 26.15% dos casos\n",
        "\n",
        "Para o cenário de 2000 simulações com um periódo de `50` dias em cada, obtemos os seguintes números:\n",
        "*   Número de vezes em que a média simples gerou menos custo: 932\n",
        "*   Número de vezes em que a média móvel gerou menos custo: 1053\n",
        "*   Número de empates do custo: 15\n",
        "\n",
        "Logo, as estatísticas deste cenário são:\n",
        "*   A média simples faz com que o Data Center tenha menos despesas em 46.60% dos casos\n",
        "*   A média móvel faz com que o Data Center tenha menos despesas em 52.65% dos casos\n",
        "*   As duas médias são iguais quanto às despesas do Data Center em 0.75% dos casos\n",
        "\n",
        "Para o cenário de 2000 simulações com um periódo de `100` dias em cada, obtemos os seguintes números:\n",
        "*   Número de vezes em que a média simples gerou menos custo: 1164\n",
        "*   Número de vezes em que a média móvel gerou menos custo: 836\n",
        "*   Número de empates do custo: 0\n",
        "\n",
        "Logo, as estatísticas deste cenário são:\n",
        "*   A média simples faz com que o Data Center tenha menos despesas em 58.20% dos casos\n",
        "*   A média móvel faz com que o Data Center tenha menos despesas em 41.80% dos casos\n",
        "*   As duas médias são iguais quanto às despesas do Data Center em 0.00% dos casos\n",
        "\n",
        "Para o cenário de 2000 simulações com um periódo de `150` dias em cada, obtemos os seguintes números:\n",
        "*   Número de vezes em que a média simples gerou menos custo: 1285\n",
        "*   Número de vezes em que a média móvel gerou menos custo: 715\n",
        "*   Número de empates do custo: 0\n",
        "\n",
        "Logo, as estatísticas deste cenário são:\n",
        "*   A média simples faz com que o Data Center tenha menos despesas em 64.25% dos casos\n",
        "*   A média móvel faz com que o Data Center tenha menos despesas em 35.75% dos casos\n",
        "*   As duas médias são iguais quanto às despesas do Data Center em 0.00% dos casos\n",
        "\n",
        "Para o cenário de 2000 simulações com um periódo de `200` dias em cada, obtemos os seguintes números:\n",
        "*   Número de vezes em que a média simples gerou menos custo: 1389\n",
        "*   Número de vezes em que a média móvel gerou menos custo: 611\n",
        "*   Número de empates do custo: 0\n",
        "\n",
        "Logo, as estatísticas deste cenário são:\n",
        "*   A média simples faz com que o Data Center tenha menos despesas em 69.45% dos casos\n",
        "*   A média móvel faz com que o Data Center tenha menos despesas em 30.55% dos casos\n",
        "*   As duas médias são iguais quanto às despesas do Data Center em 0.00% dos casos\n",
        "\n",
        "Para o cenário de 2000 simulações com um periódo de `300` dias em cada, obtemos os seguintes números:\n",
        "*   Número de vezes em que a média simples gerou menos custo: 1517\n",
        "*   Número de vezes em que a média móvel gerou menos custo: 483\n",
        "*   Número de empates do custo: 0\n",
        "\n",
        "Logo, as estatísticas deste cenário são:\n",
        "*   A média simples faz com que o Data Center tenha menos despesas em 75.85% dos casos\n",
        "*   A média móvel faz com que o Data Center tenha menos despesas em 24.15% dos casos\n",
        "*   As duas médias são iguais quanto às despesas do Data Center em 0.00% dos casos\n",
        "\n",
        "\n",
        "# Conclusões\n",
        "\n",
        "Percebemos que nos cenários de 20 dias e 50 dias, a média móvel teve desempenho superior mais vezes. Porém, em todos os cenários seguintes, conforme o número de dias por simulação aumentava, a média simples apresentou uma performance cada vez melhor.  Um possível motivo para este comportamento é que quanto mais dias estão presentes em cada simulação, mais o preço dos ruídos é diluído na média simples, enquanto a média móvel é necessariamente afetada por pelo menos 5 dias a cada ruído. Por isso, embora a média móvel reaja mais rapidamente às mudanças de preço, ela é mais vulnerável a picos extremos, o que pode comprometer o desempenho em cenários de longo prazo."
      ]
    }
  ],
  "metadata": {
    "colab": {
      "include_colab_link": true,
      "name": "Aula04-Agentes-implementacao-aula.ipynb",
      "provenance": []
    },
    "kernelspec": {
      "display_name": "Python 3",
      "name": "python3"
    },
    "language_info": {
      "name": "python",
      "version": "3.13.2"
    }
  },
  "nbformat": 4,
  "nbformat_minor": 0
}
